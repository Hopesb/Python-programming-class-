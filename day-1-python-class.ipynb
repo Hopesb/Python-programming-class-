{
 "cells": [
  {
   "cell_type": "markdown",
   "id": "f4b2a00e",
   "metadata": {
    "papermill": {
     "duration": 0.002985,
     "end_time": "2025-02-02T21:11:34.299355",
     "exception": false,
     "start_time": "2025-02-02T21:11:34.296370",
     "status": "completed"
    },
    "tags": []
   },
   "source": [
    "### Python Syntax\n",
    "\n",
    "Python Syntax are basic rules that must be obeyed for our python code to run successfully."
   ]
  },
  {
   "cell_type": "code",
   "execution_count": 1,
   "id": "924cf81f",
   "metadata": {
    "execution": {
     "iopub.execute_input": "2025-02-02T21:11:34.305630Z",
     "iopub.status.busy": "2025-02-02T21:11:34.305291Z",
     "iopub.status.idle": "2025-02-02T21:11:34.311485Z",
     "shell.execute_reply": "2025-02-02T21:11:34.310634Z"
    },
    "papermill": {
     "duration": 0.010932,
     "end_time": "2025-02-02T21:11:34.313021",
     "exception": false,
     "start_time": "2025-02-02T21:11:34.302089",
     "status": "completed"
    },
    "tags": []
   },
   "outputs": [
    {
     "name": "stdout",
     "output_type": "stream",
     "text": [
      "Welcome to Philip Code Academy\n"
     ]
    }
   ],
   "source": [
    "print(\"Welcome to Philip Code Academy\")"
   ]
  },
  {
   "cell_type": "code",
   "execution_count": 2,
   "id": "29d1e9e1",
   "metadata": {
    "execution": {
     "iopub.execute_input": "2025-02-02T21:11:34.319336Z",
     "iopub.status.busy": "2025-02-02T21:11:34.319041Z",
     "iopub.status.idle": "2025-02-02T21:11:34.323325Z",
     "shell.execute_reply": "2025-02-02T21:11:34.322285Z"
    },
    "papermill": {
     "duration": 0.009092,
     "end_time": "2025-02-02T21:11:34.324772",
     "exception": false,
     "start_time": "2025-02-02T21:11:34.315680",
     "status": "completed"
    },
    "tags": []
   },
   "outputs": [
    {
     "name": "stdout",
     "output_type": "stream",
     "text": [
      "Hi, Welcome on board\n"
     ]
    }
   ],
   "source": [
    "print(\"Hi, Welcome on board\")"
   ]
  },
  {
   "cell_type": "markdown",
   "id": "3b598ca8",
   "metadata": {
    "papermill": {
     "duration": 0.003431,
     "end_time": "2025-02-02T21:11:34.330756",
     "exception": false,
     "start_time": "2025-02-02T21:11:34.327325",
     "status": "completed"
    },
    "tags": []
   },
   "source": [
    "## Comments\n",
    "\n",
    "Comment is a line of code that makes the functionality of your code understood by other programmers."
   ]
  },
  {
   "cell_type": "code",
   "execution_count": 3,
   "id": "601ebdc2",
   "metadata": {
    "execution": {
     "iopub.execute_input": "2025-02-02T21:11:34.336542Z",
     "iopub.status.busy": "2025-02-02T21:11:34.336244Z",
     "iopub.status.idle": "2025-02-02T21:11:34.340935Z",
     "shell.execute_reply": "2025-02-02T21:11:34.339912Z"
    },
    "papermill": {
     "duration": 0.009142,
     "end_time": "2025-02-02T21:11:34.342284",
     "exception": false,
     "start_time": "2025-02-02T21:11:34.333142",
     "status": "completed"
    },
    "tags": []
   },
   "outputs": [
    {
     "name": "stdout",
     "output_type": "stream",
     "text": [
      "Welcome, Mr. Philip\n"
     ]
    }
   ],
   "source": [
    "# Greet user.\n",
    "print(\"Welcome, Mr. Philip\")"
   ]
  },
  {
   "cell_type": "code",
   "execution_count": 4,
   "id": "19020669",
   "metadata": {
    "execution": {
     "iopub.execute_input": "2025-02-02T21:11:34.348458Z",
     "iopub.status.busy": "2025-02-02T21:11:34.348133Z",
     "iopub.status.idle": "2025-02-02T21:11:34.352981Z",
     "shell.execute_reply": "2025-02-02T21:11:34.351970Z"
    },
    "papermill": {
     "duration": 0.009664,
     "end_time": "2025-02-02T21:11:34.354527",
     "exception": false,
     "start_time": "2025-02-02T21:11:34.344863",
     "status": "completed"
    },
    "tags": []
   },
   "outputs": [
    {
     "name": "stdout",
     "output_type": "stream",
     "text": [
      "Hi, Mr. Daniel\n",
      "You are welcome to Day 1 of the Python Programming Class.\n"
     ]
    }
   ],
   "source": [
    "# Greet user\n",
    "# Welcome the user to the Python Class.\n",
    "print(\"Hi, Mr. Daniel\")\n",
    "print(\"You are welcome to Day 1 of the Python Programming Class.\")"
   ]
  },
  {
   "cell_type": "markdown",
   "id": "db6ffb69",
   "metadata": {
    "papermill": {
     "duration": 0.002433,
     "end_time": "2025-02-02T21:11:34.359653",
     "exception": false,
     "start_time": "2025-02-02T21:11:34.357220",
     "status": "completed"
    },
    "tags": []
   },
   "source": [
    "## Indentation.\n",
    "\n",
    "Indentation is used to define blocks of code in programming."
   ]
  },
  {
   "cell_type": "code",
   "execution_count": 5,
   "id": "239f339b",
   "metadata": {
    "execution": {
     "iopub.execute_input": "2025-02-02T21:11:34.365768Z",
     "iopub.status.busy": "2025-02-02T21:11:34.365459Z",
     "iopub.status.idle": "2025-02-02T21:11:34.370268Z",
     "shell.execute_reply": "2025-02-02T21:11:34.369184Z"
    },
    "papermill": {
     "duration": 0.009636,
     "end_time": "2025-02-02T21:11:34.371854",
     "exception": false,
     "start_time": "2025-02-02T21:11:34.362218",
     "status": "completed"
    },
    "tags": []
   },
   "outputs": [
    {
     "name": "stdout",
     "output_type": "stream",
     "text": [
      "Welcome to the Programming Class.\n"
     ]
    }
   ],
   "source": [
    "# Condition\n",
    "if True:\n",
    "    # Welcome to the programme.\n",
    "    print(\"Welcome to the Programming Class.\")"
   ]
  },
  {
   "cell_type": "markdown",
   "id": "9abfc47b",
   "metadata": {
    "papermill": {
     "duration": 0.00242,
     "end_time": "2025-02-02T21:11:34.377015",
     "exception": false,
     "start_time": "2025-02-02T21:11:34.374595",
     "status": "completed"
    },
    "tags": []
   },
   "source": [
    "## Assignment\n",
    "\n",
    "1. Write a python program code that display the message below with your name in the `{your_name}` section:\n",
    "```python\n",
    "Hi, I am {your_name}, I am Currently learning Python Program\n",
    "```\n",
    "3. Write a program code that display the message below:\n",
    "```\n",
    "This is Ade's Bag.\n",
    "```\n",
    "4. Debug the code below and put in comment where appropriate.\n",
    "* ```python\n",
    "  print(\"This is Philip Academy, where Dream is realized')\n",
    "  ```\n",
    "* ```python\n",
    "  if True\n",
    "      print('Python Progamming made easy.\""
   ]
  }
 ],
 "metadata": {
  "kaggle": {
   "accelerator": "none",
   "dataSources": [],
   "dockerImageVersionId": 30839,
   "isGpuEnabled": false,
   "isInternetEnabled": true,
   "language": "python",
   "sourceType": "notebook"
  },
  "kernelspec": {
   "display_name": "Python 3",
   "language": "python",
   "name": "python3"
  },
  "language_info": {
   "codemirror_mode": {
    "name": "ipython",
    "version": 3
   },
   "file_extension": ".py",
   "mimetype": "text/x-python",
   "name": "python",
   "nbconvert_exporter": "python",
   "pygments_lexer": "ipython3",
   "version": "3.10.12"
  },
  "papermill": {
   "default_parameters": {},
   "duration": 3.236885,
   "end_time": "2025-02-02T21:11:34.798953",
   "environment_variables": {},
   "exception": null,
   "input_path": "__notebook__.ipynb",
   "output_path": "__notebook__.ipynb",
   "parameters": {},
   "start_time": "2025-02-02T21:11:31.562068",
   "version": "2.6.0"
  }
 },
 "nbformat": 4,
 "nbformat_minor": 5
}
