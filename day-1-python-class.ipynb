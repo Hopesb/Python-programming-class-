{
 "cells": [
  {
   "cell_type": "markdown",
   "id": "97138e10",
   "metadata": {
    "papermill": {
     "duration": 0.003052,
     "end_time": "2025-02-02T19:08:53.787902",
     "exception": false,
     "start_time": "2025-02-02T19:08:53.784850",
     "status": "completed"
    },
    "tags": []
   },
   "source": [
    "### Python Syntax\n",
    "\n",
    "Python Syntax are basic rules that must be obeyed for our python code to run successfully."
   ]
  },
  {
   "cell_type": "code",
   "execution_count": 1,
   "id": "9d20d9c6",
   "metadata": {
    "execution": {
     "iopub.execute_input": "2025-02-02T19:08:53.794620Z",
     "iopub.status.busy": "2025-02-02T19:08:53.794260Z",
     "iopub.status.idle": "2025-02-02T19:08:53.801333Z",
     "shell.execute_reply": "2025-02-02T19:08:53.799907Z"
    },
    "papermill": {
     "duration": 0.012464,
     "end_time": "2025-02-02T19:08:53.803236",
     "exception": false,
     "start_time": "2025-02-02T19:08:53.790772",
     "status": "completed"
    },
    "tags": []
   },
   "outputs": [
    {
     "name": "stdout",
     "output_type": "stream",
     "text": [
      "Welcome to Philip Code Academy\n"
     ]
    }
   ],
   "source": [
    "print(\"Welcome to Philip Code Academy\")"
   ]
  },
  {
   "cell_type": "code",
   "execution_count": 2,
   "id": "624f244b",
   "metadata": {
    "execution": {
     "iopub.execute_input": "2025-02-02T19:08:53.809935Z",
     "iopub.status.busy": "2025-02-02T19:08:53.809608Z",
     "iopub.status.idle": "2025-02-02T19:08:53.814218Z",
     "shell.execute_reply": "2025-02-02T19:08:53.813220Z"
    },
    "papermill": {
     "duration": 0.009827,
     "end_time": "2025-02-02T19:08:53.815875",
     "exception": false,
     "start_time": "2025-02-02T19:08:53.806048",
     "status": "completed"
    },
    "tags": []
   },
   "outputs": [
    {
     "name": "stdout",
     "output_type": "stream",
     "text": [
      "Hi, Welcome on board\n"
     ]
    }
   ],
   "source": [
    "print(\"Hi, Welcome on board\")"
   ]
  },
  {
   "cell_type": "markdown",
   "id": "2b6fd7a5",
   "metadata": {
    "papermill": {
     "duration": 0.002529,
     "end_time": "2025-02-02T19:08:53.821342",
     "exception": false,
     "start_time": "2025-02-02T19:08:53.818813",
     "status": "completed"
    },
    "tags": []
   },
   "source": [
    "## Comments\n",
    "\n",
    "Comment is a line of code that makes the functionality of your code understood by other programmers."
   ]
  },
  {
   "cell_type": "code",
   "execution_count": 3,
   "id": "1b7418d0",
   "metadata": {
    "execution": {
     "iopub.execute_input": "2025-02-02T19:08:53.827978Z",
     "iopub.status.busy": "2025-02-02T19:08:53.827606Z",
     "iopub.status.idle": "2025-02-02T19:08:53.832370Z",
     "shell.execute_reply": "2025-02-02T19:08:53.831321Z"
    },
    "papermill": {
     "duration": 0.009986,
     "end_time": "2025-02-02T19:08:53.833998",
     "exception": false,
     "start_time": "2025-02-02T19:08:53.824012",
     "status": "completed"
    },
    "tags": []
   },
   "outputs": [
    {
     "name": "stdout",
     "output_type": "stream",
     "text": [
      "Welcome, Mr. Philip\n"
     ]
    }
   ],
   "source": [
    "# Greet user.\n",
    "print(\"Welcome, Mr. Philip\")"
   ]
  },
  {
   "cell_type": "code",
   "execution_count": 4,
   "id": "0ed9ff01",
   "metadata": {
    "execution": {
     "iopub.execute_input": "2025-02-02T19:08:53.840866Z",
     "iopub.status.busy": "2025-02-02T19:08:53.840543Z",
     "iopub.status.idle": "2025-02-02T19:08:53.846218Z",
     "shell.execute_reply": "2025-02-02T19:08:53.845131Z"
    },
    "papermill": {
     "duration": 0.011095,
     "end_time": "2025-02-02T19:08:53.847980",
     "exception": false,
     "start_time": "2025-02-02T19:08:53.836885",
     "status": "completed"
    },
    "tags": []
   },
   "outputs": [
    {
     "name": "stdout",
     "output_type": "stream",
     "text": [
      "Hi, Mr. Daniel\n",
      "You are welcome to Day 1 of the Python Programming Class.\n"
     ]
    }
   ],
   "source": [
    "# Greet user\n",
    "# Welcome the user to the Python Class.\n",
    "print(\"Hi, Mr. Daniel\")\n",
    "print(\"You are welcome to Day 1 of the Python Programming Class.\")"
   ]
  },
  {
   "cell_type": "markdown",
   "id": "1af07e3d",
   "metadata": {
    "papermill": {
     "duration": 0.002595,
     "end_time": "2025-02-02T19:08:53.853556",
     "exception": false,
     "start_time": "2025-02-02T19:08:53.850961",
     "status": "completed"
    },
    "tags": []
   },
   "source": [
    "## Indentation.\n",
    "\n",
    "Indentation is used to define blocks of code in programming."
   ]
  },
  {
   "cell_type": "code",
   "execution_count": 5,
   "id": "026d347a",
   "metadata": {
    "execution": {
     "iopub.execute_input": "2025-02-02T19:08:53.860269Z",
     "iopub.status.busy": "2025-02-02T19:08:53.859883Z",
     "iopub.status.idle": "2025-02-02T19:08:53.864792Z",
     "shell.execute_reply": "2025-02-02T19:08:53.863691Z"
    },
    "papermill": {
     "duration": 0.009968,
     "end_time": "2025-02-02T19:08:53.866253",
     "exception": false,
     "start_time": "2025-02-02T19:08:53.856285",
     "status": "completed"
    },
    "tags": []
   },
   "outputs": [
    {
     "name": "stdout",
     "output_type": "stream",
     "text": [
      "Welcome to the Programming Class.\n"
     ]
    }
   ],
   "source": [
    "# Condition\n",
    "if True:\n",
    "    # Welcome to the programme.\n",
    "    print(\"Welcome to the Programming Class.\")"
   ]
  },
  {
   "cell_type": "markdown",
   "id": "a1899bd3",
   "metadata": {
    "papermill": {
     "duration": 0.002552,
     "end_time": "2025-02-02T19:08:53.871840",
     "exception": false,
     "start_time": "2025-02-02T19:08:53.869288",
     "status": "completed"
    },
    "tags": []
   },
   "source": [
    "## Assignment\n",
    "\n",
    "1. Write a python program code that display the message below:\n",
    "`Hi, I am {your_name}, I am Currently learning Python Program`\n",
    "2. Write a program code that display the message below:\n",
    "`This is Ade's Bag.`\n",
    "3. Debug the code below and put in comment where appropriate.\n",
    "* `print(\"This is Philip Academy, where Dream is realized')`\n",
    "* `if True\n",
    "      print('Python Progamming made easy.\"`\n",
    "  "
   ]
  },
  {
   "cell_type": "code",
   "execution_count": null,
   "id": "a10580ae",
   "metadata": {
    "papermill": {
     "duration": 0.002652,
     "end_time": "2025-02-02T19:08:53.877332",
     "exception": false,
     "start_time": "2025-02-02T19:08:53.874680",
     "status": "completed"
    },
    "tags": []
   },
   "outputs": [],
   "source": []
  }
 ],
 "metadata": {
  "kaggle": {
   "accelerator": "none",
   "dataSources": [],
   "dockerImageVersionId": 30839,
   "isGpuEnabled": false,
   "isInternetEnabled": true,
   "language": "python",
   "sourceType": "notebook"
  },
  "kernelspec": {
   "display_name": "Python 3",
   "language": "python",
   "name": "python3"
  },
  "language_info": {
   "codemirror_mode": {
    "name": "ipython",
    "version": 3
   },
   "file_extension": ".py",
   "mimetype": "text/x-python",
   "name": "python",
   "nbconvert_exporter": "python",
   "pygments_lexer": "ipython3",
   "version": "3.10.12"
  },
  "papermill": {
   "default_parameters": {},
   "duration": 3.350707,
   "end_time": "2025-02-02T19:08:54.299438",
   "environment_variables": {},
   "exception": null,
   "input_path": "__notebook__.ipynb",
   "output_path": "__notebook__.ipynb",
   "parameters": {},
   "start_time": "2025-02-02T19:08:50.948731",
   "version": "2.6.0"
  }
 },
 "nbformat": 4,
 "nbformat_minor": 5
}
